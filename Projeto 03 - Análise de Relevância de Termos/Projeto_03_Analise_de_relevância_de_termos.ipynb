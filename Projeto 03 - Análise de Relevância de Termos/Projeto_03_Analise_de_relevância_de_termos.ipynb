{
  "nbformat": 4,
  "nbformat_minor": 0,
  "metadata": {
    "colab": {
      "provenance": []
    },
    "kernelspec": {
      "name": "python3",
      "display_name": "Python 3"
    },
    "language_info": {
      "name": "python"
    }
  },
  "cells": [
    {
      "cell_type": "markdown",
      "source": [
        "# Projeto 03 - Análise de relevância de termos\n",
        "\n",
        " Projeto para relevância de palavras\n",
        "*   Cálculo de frequência com frequência inversa\n",
        "*   A maneira comum de calcularmos a relevância de palavras é por frequência absoluta\n",
        "- Quantidade de vezes que a palavra aparece e dividir pelo total de palavras do texto: palavra / total de palavras\n",
        "- Uma outra forma de calcular o quanto ela aparece em diversos textos (documentos)\n",
        "- Se um vocábulo aparece em muitos documentos signfica que ele não tem relevância para um assunto específico e sim para uso geral (palavras vazias)\n",
        "- Uma palavra que é usada em poucos documentos, mostra que sua relevancia está associada a poucos assuntos\n",
        "- A relevancia de uma palavra está associado com o uso em poucos documentos\n"
      ],
      "metadata": {
        "id": "Fjlr2KnU-zWl"
      }
    },
    {
      "cell_type": "markdown",
      "source": [
        "## Primeira etapa - Carregamento do arquivo"
      ],
      "metadata": {
        "id": "_AWyuVxZ-2Kr"
      }
    },
    {
      "cell_type": "code",
      "source": [
        "# Importação das bibliotecas e módulos\n",
        "\n",
        "import nltk\n",
        "import zipfile\n",
        "import os\n",
        "from nltk.corpus import machado\n",
        "\n",
        "# download dos corpus\n",
        "\n",
        "nltk.download('machado')\n",
        "\n",
        "# extração dos arquivos dos corpus\n",
        "\n",
        "caminho_do_zip = '/root/nltk_data/corpora/machado.zip'\n",
        "pasta_destino = '/root/nltk_data/corpora/'\n",
        "\n",
        "os.makedirs(pasta_destino, exist_ok=True)\n",
        "\n",
        "arquivo_zip = zipfile.ZipFile(caminho_do_zip, 'r')\n",
        "arquivo_zip.extractall(pasta_destino)\n",
        "\n",
        "print(f'Arquivo {caminho_do_zip} extraido com sucesso na pasta {pasta_destino}. ')"
      ],
      "metadata": {
        "colab": {
          "base_uri": "https://localhost:8080/"
        },
        "id": "KUS0t_ry_ICI",
        "outputId": "6ab37be5-26a5-4893-8da1-ba365fed81d9"
      },
      "execution_count": null,
      "outputs": [
        {
          "output_type": "stream",
          "name": "stderr",
          "text": [
            "[nltk_data] Downloading package machado to /root/nltk_data...\n"
          ]
        },
        {
          "output_type": "stream",
          "name": "stdout",
          "text": [
            "Arquivo /root/nltk_data/corpora/machado.zip extraido com sucesso na pasta /root/nltk_data/corpora/. \n"
          ]
        }
      ]
    },
    {
      "cell_type": "markdown",
      "source": [
        "## Segunda etapa - limpeza e preparação do arquivo"
      ],
      "metadata": {
        "id": "GpS7fHJG_EY7"
      }
    },
    {
      "cell_type": "code",
      "source": [
        "# Função para leitura dos arquivos a serem utilizados\n",
        "\n",
        "def ler(nome_arquivo):\n",
        "  arquivo = open(nome_arquivo, 'r', encoding='ISO-8859-1')\n",
        "  conteudo_arq = arquivo.read()\n",
        "  arquivo.close()\n",
        "  return conteudo_arq\n"
      ],
      "metadata": {
        "id": "GaXlktEOCbGE"
      },
      "execution_count": null,
      "outputs": []
    },
    {
      "cell_type": "code",
      "source": [
        "# Função limpeza de textos em lista\n",
        "\n",
        "def limpar(lista):\n",
        "  lixo = '.,:;?!\"´`^~()[]{}/\\|@#$%¨&*-'\n",
        "  quase_limpo = [x.strip(lixo).lower() for x in lista]\n",
        "  return [x for x in quase_limpo if x.isalpha() or '-' not in x]\n"
      ],
      "metadata": {
        "id": "3lVhixasCcbs"
      },
      "execution_count": null,
      "outputs": []
    },
    {
      "cell_type": "code",
      "source": [
        "# Obtenção dos caminhos dos arquivos para serem analisados\n",
        "\n",
        "obras = []\n",
        "\n",
        "for i in range(1, 10):\n",
        "  obras.append('/root/nltk_data/corpora/machado/romance/marm0'+str(i) + '.txt')\n",
        "\n",
        "colecao = []\n",
        "\n",
        "for obra in obras:\n",
        "  print(obra)\n",
        "  texto = ler(obra)\n",
        "  palavras = limpar(texto.lower().split())\n",
        "  colecao.append(palavras)\n",
        "\n",
        "\n"
      ],
      "metadata": {
        "colab": {
          "base_uri": "https://localhost:8080/"
        },
        "id": "b3goPrcBCcwQ",
        "outputId": "fc9f5a54-1da4-451c-d738-5afcfa2b70ab"
      },
      "execution_count": null,
      "outputs": [
        {
          "output_type": "stream",
          "name": "stdout",
          "text": [
            "/root/nltk_data/corpora/machado/romance/marm01.txt\n",
            "/root/nltk_data/corpora/machado/romance/marm02.txt\n",
            "/root/nltk_data/corpora/machado/romance/marm03.txt\n",
            "/root/nltk_data/corpora/machado/romance/marm04.txt\n",
            "/root/nltk_data/corpora/machado/romance/marm05.txt\n",
            "/root/nltk_data/corpora/machado/romance/marm06.txt\n",
            "/root/nltk_data/corpora/machado/romance/marm07.txt\n",
            "/root/nltk_data/corpora/machado/romance/marm08.txt\n",
            "/root/nltk_data/corpora/machado/romance/marm09.txt\n"
          ]
        }
      ]
    },
    {
      "cell_type": "markdown",
      "source": [
        "## Terceira etapa - Criação dos calculos"
      ],
      "metadata": {
        "id": "OH0viQBD_IsI"
      }
    },
    {
      "cell_type": "code",
      "source": [
        "import math\n",
        "\n",
        "# Calcula a frequência do termo (TF - Term Frequency) no documento.\n",
        "# Conta quantas vezes o 'termo' aparece no documento identificado por 'doc'.\n",
        "def tf(termo, doc):\n",
        "  return colecao[doc].count(termo)\n",
        "\n",
        "# Calcula o número de documentos da coleção que contêm o termo (DF - Document Frequency).\n",
        "def df(termo):\n",
        "  return len([d for d in colecao if termo in d])\n",
        "\n",
        "# Calcula o inverso da frequência de documentos (IDF - Inverse Document Frequency).\n",
        "# Usa logaritmo para penalizar termos comuns em muitos documentos.\n",
        "def idf(termo):\n",
        "  return math.log10(len(colecao)/df(termo))\n",
        "\n",
        "# Calcula o peso TF-IDF, que é o produto do TF pelo IDF.\n",
        "# Esse valor indica a importância do termo no documento, considerando a coleção como um todo.\n",
        "def tf_idf(termo, doc):\n",
        "  return tf(termo, doc) * idf(termo)\n",
        "\n",
        "\n"
      ],
      "metadata": {
        "id": "i_7iwhKw_U2I"
      },
      "execution_count": null,
      "outputs": []
    },
    {
      "cell_type": "markdown",
      "source": [
        "## Ultima etapa - Experimentação dos calculos"
      ],
      "metadata": {
        "id": "sToRoMgK3k-J"
      }
    },
    {
      "cell_type": "code",
      "source": [
        "df('que')"
      ],
      "metadata": {
        "colab": {
          "base_uri": "https://localhost:8080/"
        },
        "id": "vxRb4IeD3o9Y",
        "outputId": "79a4bd32-d72a-42ff-d856-606af691368b"
      },
      "execution_count": null,
      "outputs": [
        {
          "output_type": "execute_result",
          "data": {
            "text/plain": [
              "9"
            ]
          },
          "metadata": {},
          "execution_count": 12
        }
      ]
    },
    {
      "cell_type": "code",
      "source": [
        "df('luva')"
      ],
      "metadata": {
        "colab": {
          "base_uri": "https://localhost:8080/"
        },
        "id": "uEIge0BT3uAs",
        "outputId": "00d97e37-6fef-4608-b4bd-78c42867beff"
      },
      "execution_count": null,
      "outputs": [
        {
          "output_type": "execute_result",
          "data": {
            "text/plain": [
              "5"
            ]
          },
          "metadata": {},
          "execution_count": 13
        }
      ]
    },
    {
      "cell_type": "code",
      "source": [
        "tf_idf('luva', 2)"
      ],
      "metadata": {
        "colab": {
          "base_uri": "https://localhost:8080/"
        },
        "id": "H-kKSJ-V3wlr",
        "outputId": "f9ce243b-94bc-4d56-c55f-5700e6fbb930"
      },
      "execution_count": null,
      "outputs": [
        {
          "output_type": "execute_result",
          "data": {
            "text/plain": [
              "0.25527250510330607"
            ]
          },
          "metadata": {},
          "execution_count": 14
        }
      ]
    },
    {
      "cell_type": "code",
      "source": [
        "tf_idf('latim', 1)"
      ],
      "metadata": {
        "colab": {
          "base_uri": "https://localhost:8080/"
        },
        "id": "XPJUe-au318J",
        "outputId": "56a4de5a-da1d-49ea-9654-9981c81de0ba"
      },
      "execution_count": null,
      "outputs": [
        {
          "output_type": "execute_result",
          "data": {
            "text/plain": [
              "0.05115252244738129"
            ]
          },
          "metadata": {},
          "execution_count": 15
        }
      ]
    },
    {
      "cell_type": "code",
      "source": [
        "def relevantes(doc):\n",
        "  lista_total = [(tf_idf(p, doc),p) for p in set(colecao[doc])]\n",
        "\n",
        "  return sorted(lista_total, reverse=True)[:10]\n",
        "\n"
      ],
      "metadata": {
        "id": "CmmGwb8a35go"
      },
      "execution_count": null,
      "outputs": []
    },
    {
      "cell_type": "code",
      "source": [
        "  mr = relevantes(1)"
      ],
      "metadata": {
        "id": "F_rJqpuv4NXa"
      },
      "execution_count": null,
      "outputs": []
    },
    {
      "cell_type": "code",
      "source": [
        "mr"
      ],
      "metadata": {
        "colab": {
          "base_uri": "https://localhost:8080/"
        },
        "id": "-i58zcIf4h9p",
        "outputId": "29b9a2bc-5821-4112-d2ea-82308cb51f69"
      },
      "execution_count": null,
      "outputs": [
        {
          "output_type": "execute_result",
          "data": {
            "text/plain": [
              "[(276.7303277374042, 'guiomar'),\n",
              " (164.12971162356388, 'estevão'),\n",
              " (148.82387047522744, '\\x97'),\n",
              " (94.71581449742484, 'alves'),\n",
              " (87.79031086841789, 'oswald'),\n",
              " (86.83606835897857, 'mrs'),\n",
              " (60.748763781106966, 'jorge'),\n",
              " (43.65159837266534, 'baronesa'),\n",
              " (24.810305245422448, 'inglesa'),\n",
              " (9.144975192854812, 'afilhada')]"
            ]
          },
          "metadata": {},
          "execution_count": 23
        }
      ]
    }
  ]
}