{
  "nbformat": 4,
  "nbformat_minor": 0,
  "metadata": {
    "colab": {
      "provenance": []
    },
    "kernelspec": {
      "name": "python3",
      "display_name": "Python 3"
    },
    "language_info": {
      "name": "python"
    }
  },
  "cells": [
    {
      "cell_type": "code",
      "execution_count": 2,
      "metadata": {
        "id": "wNwZmyKf3wOW"
      },
      "outputs": [],
      "source": [
        "##  1- Estruturas básicas no Python\n",
        "\n",
        "#Programas que possuem:\n",
        "\n",
        "#* Entrada de informação\n",
        "#* Processamento\n",
        "#* Saída\n"
      ]
    },
    {
      "cell_type": "markdown",
      "source": [
        "## Exemplo 1 - Calculadora com as operações matemáticas básicas\n",
        "\n",
        "* Entrada de informação - 2 valores numéricos inteiros\n",
        "* Processamento - executar com cada um dos valoeres as operações matematicas de soma, subtraçao, divisão, multiplicação\n",
        "* Saída de informação - resultado de cada operação"
      ],
      "metadata": {
        "id": "686CNaaN4Xdl"
      }
    },
    {
      "cell_type": "code",
      "source": [
        "n1 = int(input(\"Digite o primeiro valor: \"))\n",
        "n2 = int(input(\"Digite o segundo valor: \"))\n",
        "\n",
        "soma = n1 + n2\n",
        "sub = n1 - n2\n",
        "div = n1 / n2\n",
        "mult = n1 * n2\n",
        "\n",
        "print(soma)\n",
        "print(sub)\n",
        "print(div)\n",
        "print(mult)"
      ],
      "metadata": {
        "colab": {
          "base_uri": "https://localhost:8080/"
        },
        "id": "S3CIhXqj5UBN",
        "outputId": "228b70bc-f0d3-4dd5-f719-412e6d15525b"
      },
      "execution_count": null,
      "outputs": [
        {
          "output_type": "stream",
          "name": "stdout",
          "text": [
            "Digite o primeiro valor: 10\n",
            "Digite o segundo valor: 2\n",
            "12\n",
            "8\n",
            "5.0\n",
            "20\n"
          ]
        }
      ]
    },
    {
      "cell_type": "code",
      "source": [],
      "metadata": {
        "id": "16HyJYVU5Pan"
      },
      "execution_count": null,
      "outputs": []
    }
  ]
}