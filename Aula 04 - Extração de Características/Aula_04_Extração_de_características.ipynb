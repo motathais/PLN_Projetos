{
  "nbformat": 4,
  "nbformat_minor": 0,
  "metadata": {
    "colab": {
      "provenance": []
    },
    "kernelspec": {
      "name": "python3",
      "display_name": "Python 3"
    },
    "language_info": {
      "name": "python"
    }
  },
  "cells": [
    {
      "cell_type": "markdown",
      "source": [
        "# Aula 04 - Extração de Características (Features) em Texto\n",
        "\n",
        "A extração características em texto tem como objetivo compreender a importância da transformação de texto em dados numéricos.\n",
        "\n",
        "Técnicas de Extração de Features:  \n",
        "\n",
        "* Bag of Words (BoW)\n",
        "\n",
        "* TF-IDF (Term Frequency - Inverse Document Frequency)\n",
        "\n",
        "* Word Embeddings: Word2Vec e GloVe"
      ],
      "metadata": {
        "id": "lX5BpGoiqHes"
      }
    },
    {
      "cell_type": "markdown",
      "source": [
        "## **Parte 2** - Extração de Caracteristicas"
      ],
      "metadata": {
        "id": "-zg1DqyYsnWI"
      }
    },
    {
      "cell_type": "markdown",
      "source": [
        "### Exemplo 1 - Implementando BOW\n",
        "\n",
        "Criar uma implementação simples de BoW usando CountVectorizer do scikit-learn.\n",
        "\n",
        "- Converte textos em vetores numéricos com base na **frequência de palavras**.\n",
        "- **Ignora a ordem** das palavras no texto.\n",
        "- Representa cada documento por um vetor com a contagem das palavras presentes no vocabulário.\n"
      ],
      "metadata": {
        "id": "G48S8F2dssKc"
      }
    },
    {
      "cell_type": "code",
      "execution_count": null,
      "metadata": {
        "id": "oviLkTuasplw"
      },
      "outputs": [],
      "source": [
        "#importando a ferramenta que irá criar a representação numerica\n",
        "\n",
        "from sklearn.feature_extraction.text import CountVectorizer"
      ]
    },
    {
      "cell_type": "code",
      "source": [
        "# criando um corpus de documentos que será usado para criação do vocabulário\n",
        "\n",
        "documentos = [\n",
        "    \"gato e cachorro\",\n",
        "    \"gato brinca com cachorro\",\n",
        "    \"gato e rato\"\n",
        "]\n"
      ],
      "metadata": {
        "id": "2lxZHFT5JrVz"
      },
      "execution_count": null,
      "outputs": []
    },
    {
      "cell_type": "code",
      "source": [
        "# Criando um objeto para ser utilizado: transformar os documentos em vetores\n",
        "vectorizer = CountVectorizer()\n"
      ],
      "metadata": {
        "id": "0SgCYPGtJfbb"
      },
      "execution_count": null,
      "outputs": []
    },
    {
      "cell_type": "code",
      "source": [
        "# Criando a matriz de contagem\n",
        "\n",
        "X = vectorizer.fit_transform(documentos)\n",
        "# fit >>> cria um vocabulario das palavras\n",
        "\n",
        "# transforme >> conta a frequencia de cada palavra no corpus\n",
        "\n",
        "# Imprimindo a Matriz e o vocabulario gerado\n",
        "\n",
        "print(f\"Vocabulario: {vectorizer.vocabulary_}\")\n",
        "# realiza o mapeamento do vocabulário para um indice da matriz\n",
        "\n"
      ],
      "metadata": {
        "colab": {
          "base_uri": "https://localhost:8080/"
        },
        "id": "NsFRb7UpKFex",
        "outputId": "1fed3870-b922-4111-8f33-8272a4677b23"
      },
      "execution_count": null,
      "outputs": [
        {
          "output_type": "stream",
          "name": "stdout",
          "text": [
            "Vocabulario: {'gato': 3, 'cachorro': 1, 'brinca': 0, 'com': 2, 'rato': 4}\n"
          ]
        }
      ]
    },
    {
      "cell_type": "code",
      "source": [
        "print(\"Matriz Bow: \")\n",
        "print(X.toarray())\n",
        "# mostra a frequencia dentro da matriz"
      ],
      "metadata": {
        "colab": {
          "base_uri": "https://localhost:8080/"
        },
        "id": "lYzf-g7BKlBo",
        "outputId": "eb52af90-18f4-4343-e556-0ba46a0547cf"
      },
      "execution_count": null,
      "outputs": [
        {
          "output_type": "stream",
          "name": "stdout",
          "text": [
            "Matriz Bow: \n",
            "[[0 1 0 1 0]\n",
            " [1 1 1 1 0]\n",
            " [0 0 0 1 1]]\n"
          ]
        }
      ]
    },
    {
      "cell_type": "markdown",
      "source": [
        "### Exemplo 2- Implementando Bow com TF-IDF (Frequencia de termo - frequencia inversa dos documentos)\n",
        "\n",
        "**TF-IDF (Term Frequency - Inverse Document Frequency)** é uma técnica que:\n",
        "\n",
        "- Representa textos como vetores numéricos, mas com pesos que refletem a **importância de uma palavra em um documento** dentro de um conjunto de documentos.\n",
        "- Calcula dois fatores:\n",
        "  - **TF (Frequência do termo):** quantas vezes a palavra aparece no documento.\n",
        "  - **IDF (Frequência inversa de documentos):** penaliza palavras muito comuns, atribuindo maior peso às mais específicas.\n",
        "- Diferente do BoW puro, o TF-IDF **reduz a influência de palavras frequentes**, como \"de\", \"e\", \"o\"."
      ],
      "metadata": {
        "id": "0fVXc5DKN6pI"
      }
    },
    {
      "cell_type": "code",
      "source": [
        "# Importando as bibliotecas\n",
        "\n",
        "from sklearn.feature_extraction.text import CountVectorizer\n",
        "\n",
        "# classe que transforma os documentos em vetores e realiza a contagem de frequencia\n",
        "\n",
        "from sklearn.feature_extraction.text import TfidfVectorizer\n",
        "\n",
        "# Classe que transforma os documentos em vetores e uma contagem de frequencia ponderada\n",
        "\n",
        "# Definido o corpus\n",
        "\n",
        "documentos = [\n",
        "    \"O cachorro gosta de passear no parque\",\n",
        "    \"O gato dorme no sofá o dia todo\",\n",
        "    \"Cachorros e gatos podem ser bons amigos\"\n",
        "]\n",
        "\n",
        "# Criando o modelo Bow\n",
        "\n",
        "vectorizer_bow = CountVectorizer()\n",
        "\n",
        "# Instanciamento da classe em objeto para ser usado\n",
        "\n",
        "X_bow = vectorizer_bow.fit_transform(documentos)\n",
        "\n",
        "# fit >> realizar a transformação do vocabulário\n",
        "# transform >> transforma cada vetor em um documento com a contagem de frequência\n",
        "\n",
        "# Imprimindo o Vocabulário e a Matriz\n",
        "\n",
        "print(f\"Vocabulário Bow: {vectorizer_bow.vocabulary_}\")\n",
        "\n",
        "print(\"Matriz Bow:\")\n",
        "\n",
        "print(X_bow.toarray())\n",
        "\n",
        "# Criando um modelo TF - IDF\n",
        "\n",
        "vectorizer_tfidf = TfidfVectorizer()\n",
        "\n",
        "# realiza a instanciação da classe em objeto\n",
        "\n",
        "X_tfidf = vectorizer_tfidf.fit_transform(documentos)\n",
        "\n",
        "# fit >> realizar a transformação do vocabulário\n",
        "\n",
        "# transform >> transforma cada vetor em um documento com a contagem de frequencia ponderada\n",
        "\n",
        "# Imprimindo o vocabulário e a matriz TF-IDF\n",
        "\n",
        "print(f\"\\nVocabulario TF-IDF: {vectorizer_tfidf.vocabulary_}\")\n",
        "\n",
        "print(\"Matriz TF-IDF\")\n",
        "\n",
        "print(X_tfidf.toarray())\n",
        "\n",
        "\n"
      ],
      "metadata": {
        "colab": {
          "base_uri": "https://localhost:8080/"
        },
        "id": "57gQc0E9OQru",
        "outputId": "fea7850e-ffdd-4a29-c147-812e7f55c697"
      },
      "execution_count": null,
      "outputs": [
        {
          "output_type": "stream",
          "name": "stdout",
          "text": [
            "Vocabulário Bow: {'cachorro': 2, 'gosta': 9, 'de': 4, 'passear': 12, 'no': 10, 'parque': 11, 'gato': 7, 'dorme': 6, 'sofá': 15, 'dia': 5, 'todo': 16, 'cachorros': 3, 'gatos': 8, 'podem': 13, 'ser': 14, 'bons': 1, 'amigos': 0}\n",
            "Matriz Bow:\n",
            "[[0 0 1 0 1 0 0 0 0 1 1 1 1 0 0 0 0]\n",
            " [0 0 0 0 0 1 1 1 0 0 1 0 0 0 0 1 1]\n",
            " [1 1 0 1 0 0 0 0 1 0 0 0 0 1 1 0 0]]\n",
            "\n",
            "Vocabulario TF-IDF: {'cachorro': 2, 'gosta': 9, 'de': 4, 'passear': 12, 'no': 10, 'parque': 11, 'gato': 7, 'dorme': 6, 'sofá': 15, 'dia': 5, 'todo': 16, 'cachorros': 3, 'gatos': 8, 'podem': 13, 'ser': 14, 'bons': 1, 'amigos': 0}\n",
            "Matriz TF-IDF\n",
            "[[0.         0.         0.42339448 0.         0.42339448 0.\n",
            "  0.         0.         0.         0.42339448 0.32200242 0.42339448\n",
            "  0.42339448 0.         0.         0.         0.        ]\n",
            " [0.         0.         0.         0.         0.         0.42339448\n",
            "  0.42339448 0.42339448 0.         0.         0.32200242 0.\n",
            "  0.         0.         0.         0.42339448 0.42339448]\n",
            " [0.40824829 0.40824829 0.         0.40824829 0.         0.\n",
            "  0.         0.         0.40824829 0.         0.         0.\n",
            "  0.         0.40824829 0.40824829 0.         0.        ]]\n"
          ]
        }
      ]
    },
    {
      "cell_type": "markdown",
      "source": [
        "### Exemplo 3 - Realizando o Pre processamento e a Extração de características do texto\n",
        "Construção de um exemplo de pré-processamento\n",
        "e representação de texto:\n",
        "* Limpeza de dados – removendo caracteres indesejados e normalizando o texto.\n",
        "* Tokenização – dividindo o texto em palavras individuais.\n",
        "* Remoção de stopwords – eliminando palavras comuns que não carregam significado semântico importante.\n",
        "* Lematização – reduzindo as palavras à sua forma base.\n",
        "* Representação de Texto – convertendo o texto processado em uma matriz numérica usando o modelo Bag of Words."
      ],
      "metadata": {
        "id": "YN51Kcc_tz_h"
      }
    },
    {
      "cell_type": "code",
      "source": [
        "import nltk\n",
        "import re\n",
        "from nltk.corpus import stopwords\n",
        "from nltk.tokenize import word_tokenize\n",
        "from nltk.stem import WordNetLemmatizer\n",
        "from sklearn.feature_extraction.text import CountVectorizer\n",
        "\n",
        "nltk.download('punkt')\n",
        "nltk.download('stopwords')\n",
        "nltk.download('wordnet')\n",
        "nltk.download('omw-1.4')\n",
        "\n",
        "documentos = [\n",
        "    \"Os cachorros são animais muito amigáveis e leais!\",\n",
        "    \"Eu gosto de gatos porque eles são independentes e fofos.\",\n",
        "    \"Cachorros e gatos podem ser ótimos animais de estimaçãos.\"\n",
        "]\n",
        "\n",
        "# Inicialização do lematizador\n",
        "\n",
        "lemmatizer = WordNetLemmatizer()\n",
        "\n",
        "# Definição da lista de stopwords em português\n",
        "\n",
        "stop_words = set(stopwords.words(\"portuguese\"))\n",
        "\n",
        "\n",
        "# Função para pré-processar um texto\n",
        "def preprocessar_texto(texto):\n",
        "\n",
        "  # Remove caracteres especiais e pontuação, mantendo apenas letras e espaços\n",
        "  texto = re.sub(r'[^a-zA-Zá-ÿ\\s]','',texto)\n",
        "\n",
        "  # Tokeniza o texto em palavras, convertendo para minúsculas\n",
        "  tokens_tudo = word_tokenize(texto.lower())\n",
        "\n",
        "  # Remove as stopwords da lista de tokens\n",
        "  tokens = [palavra for palavra in tokens_tudo if palavra not in stop_words]\n",
        "\n",
        "  # Aplica lematização (forma base da palavra)\n",
        "  tokens_lema = [lemmatizer.lemmatize(palavra) for palavra in tokens]\n",
        "\n",
        "  # Retorna os tokens processados como uma única string\n",
        "  return ' '.join(tokens_lema)\n",
        "\n",
        "# Aplica o pré-processamento a todos os documentos\n",
        "documentos_processados = [preprocessar_texto(doc) for doc in documentos]\n",
        "\n",
        "# Exibe os documentos após o pré-processamento\n",
        "print('Documentos Pré-processados:')\n",
        "for i, doc in enumerate(documentos_processados):\n",
        "  print(f\"Documento {i + 1}: {doc}\")\n",
        "\n",
        "# Criação do vetorizador Bag of Words\n",
        "vectorizer = CountVectorizer()\n",
        "\n",
        "# Geração da matriz BoW a partir dos documentos pré-processados\n",
        "X_bow = vectorizer.fit_transform(documentos_processados)\n",
        "\n",
        "# Exibe o vocabulário identificado pelo BoW\n",
        "print(\"\\nVocabulário BoW:\", vectorizer.vocabulary_)\n",
        "\n",
        "# Exibe a matriz numérica resultante da vetorização\n",
        "print(\"Matriz BoW:\")\n",
        "print(X_bow.toarray())"
      ],
      "metadata": {
        "id": "SWVMRwiYuCs-"
      },
      "execution_count": null,
      "outputs": []
    },
    {
      "cell_type": "markdown",
      "source": [
        "### Exemplo 4 - WordEmbedding utilizando Word2Vec\n",
        "\n",
        "- Representa palavras como **vetores densos em um espaço contínuo** de alta dimensão.\n",
        "- Diferente do BoW e do TF-IDF, considera o **contexto em que as palavras aparecem**, capturando relações semânticas e sintáticas.\n",
        "- Palavras com significados semelhantes ficam com vetores próximos entre si no espaço vetorial.\n",
        "\n",
        "**Word2Vec**, especificamente, é um modelo de embedding que:\n",
        "\n",
        "- Usa redes neurais simples para aprender os vetores de palavras a partir de grandes corpora.\n",
        "- Possui dois modos principais de treinamento:\n",
        "  - **CBOW (Continuous Bag of Words):** prevê uma palavra com base no contexto.\n",
        "  - **Skip-gram:** prevê o contexto com base em uma palavra."
      ],
      "metadata": {
        "id": "uXtARWt2qZQz"
      }
    },
    {
      "cell_type": "code",
      "source": [
        "!pip install gensim"
      ],
      "metadata": {
        "colab": {
          "base_uri": "https://localhost:8080/"
        },
        "id": "5r4mePO_CT5Z",
        "outputId": "49dbbfc3-625c-46a7-c578-e48b20d4a5c7"
      },
      "execution_count": null,
      "outputs": [
        {
          "output_type": "stream",
          "name": "stdout",
          "text": [
            "Collecting gensim\n",
            "  Downloading gensim-4.3.3-cp311-cp311-manylinux_2_17_x86_64.manylinux2014_x86_64.whl.metadata (8.1 kB)\n",
            "Collecting numpy<2.0,>=1.18.5 (from gensim)\n",
            "  Downloading numpy-1.26.4-cp311-cp311-manylinux_2_17_x86_64.manylinux2014_x86_64.whl.metadata (61 kB)\n",
            "\u001b[2K     \u001b[90m━━━━━━━━━━━━━━━━━━━━━━━━━━━━━━━━━━━━━━━━\u001b[0m \u001b[32m61.0/61.0 kB\u001b[0m \u001b[31m1.7 MB/s\u001b[0m eta \u001b[36m0:00:00\u001b[0m\n",
            "\u001b[?25hCollecting scipy<1.14.0,>=1.7.0 (from gensim)\n",
            "  Downloading scipy-1.13.1-cp311-cp311-manylinux_2_17_x86_64.manylinux2014_x86_64.whl.metadata (60 kB)\n",
            "\u001b[2K     \u001b[90m━━━━━━━━━━━━━━━━━━━━━━━━━━━━━━━━━━━━━━━━\u001b[0m \u001b[32m60.6/60.6 kB\u001b[0m \u001b[31m2.4 MB/s\u001b[0m eta \u001b[36m0:00:00\u001b[0m\n",
            "\u001b[?25hRequirement already satisfied: smart-open>=1.8.1 in /usr/local/lib/python3.11/dist-packages (from gensim) (7.1.0)\n",
            "Requirement already satisfied: wrapt in /usr/local/lib/python3.11/dist-packages (from smart-open>=1.8.1->gensim) (1.17.2)\n",
            "Downloading gensim-4.3.3-cp311-cp311-manylinux_2_17_x86_64.manylinux2014_x86_64.whl (26.7 MB)\n",
            "\u001b[2K   \u001b[90m━━━━━━━━━━━━━━━━━━━━━━━━━━━━━━━━━━━━━━━━\u001b[0m \u001b[32m26.7/26.7 MB\u001b[0m \u001b[31m43.3 MB/s\u001b[0m eta \u001b[36m0:00:00\u001b[0m\n",
            "\u001b[?25hDownloading numpy-1.26.4-cp311-cp311-manylinux_2_17_x86_64.manylinux2014_x86_64.whl (18.3 MB)\n",
            "\u001b[2K   \u001b[90m━━━━━━━━━━━━━━━━━━━━━━━━━━━━━━━━━━━━━━━━\u001b[0m \u001b[32m18.3/18.3 MB\u001b[0m \u001b[31m61.9 MB/s\u001b[0m eta \u001b[36m0:00:00\u001b[0m\n",
            "\u001b[?25hDownloading scipy-1.13.1-cp311-cp311-manylinux_2_17_x86_64.manylinux2014_x86_64.whl (38.6 MB)\n",
            "\u001b[2K   \u001b[90m━━━━━━━━━━━━━━━━━━━━━━━━━━━━━━━━━━━━━━━━\u001b[0m \u001b[32m38.6/38.6 MB\u001b[0m \u001b[31m14.9 MB/s\u001b[0m eta \u001b[36m0:00:00\u001b[0m\n",
            "\u001b[?25hInstalling collected packages: numpy, scipy, gensim\n",
            "  Attempting uninstall: numpy\n",
            "    Found existing installation: numpy 2.0.2\n",
            "    Uninstalling numpy-2.0.2:\n",
            "      Successfully uninstalled numpy-2.0.2\n",
            "  Attempting uninstall: scipy\n",
            "    Found existing installation: scipy 1.14.1\n",
            "    Uninstalling scipy-1.14.1:\n",
            "      Successfully uninstalled scipy-1.14.1\n",
            "Successfully installed gensim-4.3.3 numpy-1.26.4 scipy-1.13.1\n"
          ]
        }
      ]
    },
    {
      "cell_type": "code",
      "source": [
        "from gensim.models import Word2Vec"
      ],
      "metadata": {
        "id": "aWl2qpHQqlHU"
      },
      "execution_count": 1,
      "outputs": []
    },
    {
      "cell_type": "code",
      "source": [
        "corpus = [\n",
        "    [\"o\", \"cachorro\", \"está\", \"latindo\", \"no\", \"quintal\"],\n",
        "    [\"o\", \"gato\", \"está\", \"miando\", \"no\", \"telhado\"],\n",
        "    [\"o\", \"pássaro\", \"está\", \"voando\", \"no\", \"céu\"],\n",
        "    [\"a\", \"bola\", \"está\", \"rolando\", \"no\", \"chão\"],\n",
        "    [\"a\", \"criança\", \"está\", \"brincando\", \"com\", \"o\", \"cachorro\"],\n",
        "    [\"o\", \"gato\", \"e\", \"o rato\", \"são\", \"inimigos\"],\n",
        "    [\"a\", \"agua\", \"está\", \"quente\", \"na\", \"caneca\"],\n",
        "    [\"o\", \"sol\", \"está\", \"brilhando\", \"no\", \"céu\"],\n",
        "    [\"a\", \"lua\", \"está\", \"cheia\", \"hoje\", \"no\", \"céu\"],\n",
        "    [\"o\", \"computador\", \"está\", \"ligado\", \"na\", \"mesa\"],\n",
        "    [\"o\", \"cachorro\", \"está\", \"latindo\", \"no\", \"quintal\"],\n",
        "    ['a', 'lua', 'está', 'no', 'ceu', 'lua', 'bonita']\n",
        "\n",
        "]\n",
        "\n",
        "# Criando o modelo de vetor\n",
        "\n",
        "# Treina o modelo Word2Vec com o corpus fornecido\n",
        "model = Word2Vec(\n",
        "    sentences=corpus,     # Lista de sentenças tokenizadas (corpus de treino)\n",
        "    vector_size=100,      # Dimensão dos vetores de palavras (tamanho do embedding)\n",
        "    window=5,             # Tamanho da janela de contexto (palavras antes e depois da palavra-alvo)\n",
        "    min_count=1,          # Ignora palavras que aparecem menos que esse valor (1 = inclui todas)\n",
        "    sg=1                  # Define o algoritmo: 1 = Skip-gram, 0 = CBOW\n",
        ")\n",
        "\n",
        "# Calculando a similaridade entre palavras\n",
        "\n",
        "print(f\"Similiaridade entre cachorro e gato: {model.wv.similarity('cachorro', 'gato')}\")\n",
        "print(f\"Similiaridade entre cachorro e bola: {model.wv.similarity('cachorro', 'bola')}\")\n",
        "print(f\"Similiaridade entre céu e lua: {model.wv.similarity('céu', 'lua')}\")\n",
        "print(f\"Similaridade entre computador e mesa:  {model.wv.similarity('computador', 'mesa')}\")"
      ],
      "metadata": {
        "colab": {
          "base_uri": "https://localhost:8080/"
        },
        "id": "YrfNEvwxrNt0",
        "outputId": "1c5fd465-fc53-4124-cb24-e266e993df64"
      },
      "execution_count": 2,
      "outputs": [
        {
          "output_type": "stream",
          "name": "stdout",
          "text": [
            "Similiaridade entre cachorro e gato: -0.10512460023164749\n",
            "Similiaridade entre cachorro e bola: -0.14502334594726562\n",
            "Similiaridade entre céu e lua: 0.03479272872209549\n",
            "Similaridade entre computador e mesa:  -0.07781144231557846\n"
          ]
        }
      ]
    },
    {
      "cell_type": "code",
      "source": [
        "\"\"\" Algumas frases para aumentar o corpus:\n",
        "    [\"o\",\"papagaio\",\"está\",\"falando\"],\n",
        "    [\"a\",\"lhama\",\"vai\",\"cuspir\",\"em\",\"você\"],\n",
        "    [\"o\",\"cachorro\",\"gosta\",\"de\",\"bola\"],\n",
        "\"\"\"\n",
        "# Importação a Biblioteca\n",
        "from gensim.models import Word2Vec\n",
        "  # Word2Vec >>> criar os modelos de vetorização\n",
        "\n",
        "# criação do Corpus\n",
        "corpus = [\n",
        "    [\"o\",\"cachorro\",\"está\",\"dormindo\"],\n",
        "    [\"o\",\"gato\",\"está\",\"dormindo\"],\n",
        "    [\"o\",\"cachorro\",\"gosta\",\"de\",\"bola\"],\n",
        "    [\"cachorro\",\"gato\"],\n",
        "    [\"o\",\"papagaio\",\"está\",\"falando\"],\n",
        "    [\"a\",\"lhama\",\"vai\",\"cuspir\",\"em\",\"você\"]\n",
        "]\n",
        "\n",
        "# Criando o modelo de vetor\n",
        "model = Word2Vec(sentences=corpus, vector_size=100, window=3, min_count=1,sg=1)\n",
        "  # sentences = define o texto a ser transformado em vetor\n",
        "  # vector_size = define a dimensão dos vetores que representarão as palavras\n",
        "  # window = define a janela de contexto. considera as palavras antes e as palavras depois no alvo para aprender\n",
        "  # min_count = ignora as palavras que aparecer 1 vez no corpus\n",
        "  # indica o modelo utilizado\n",
        "    # 1 = skip_gram;\n",
        "    # 0 = CBOW\n",
        "\n",
        "# obtem o vetor da palavra\n",
        "vector = model.wv['cachorro']\n",
        "\n",
        "# calcula a similaridade de duas palavras\n",
        "similarity = model.wv.similarity('cachorro','gato')\n",
        "  # similaridade cosseno, qt mais próximo de 1, maior similaridade\n",
        "\n",
        "print(\"Similaridade entre 'cachorro' e 'gato': \",similarity)"
      ],
      "metadata": {
        "id": "MnwA16RWxdRQ",
        "outputId": "83bd2972-7dce-466d-bf0d-5c11021e24cc",
        "colab": {
          "base_uri": "https://localhost:8080/"
        }
      },
      "execution_count": 3,
      "outputs": [
        {
          "output_type": "stream",
          "name": "stdout",
          "text": [
            "Similaridade entre 'cachorro' e 'gato':  -0.013514926\n"
          ]
        }
      ]
    }
  ]
}